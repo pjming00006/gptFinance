{
 "cells": [
  {
   "cell_type": "code",
   "execution_count": 7,
   "id": "fff99006-4a68-4de5-af30-5c4226b55728",
   "metadata": {},
   "outputs": [],
   "source": [
    "import openai\n",
    "import os\n",
    "import pandas as pd\n",
    "from openai import OpenAI"
   ]
  },
  {
   "cell_type": "code",
   "execution_count": 3,
   "id": "14c55440-6853-46b5-9d72-eb9b68f5b2f7",
   "metadata": {},
   "outputs": [],
   "source": [
    "client = OpenAI(\n",
    "    # This is the default and can be omitted\n",
    "    api_key=os.environ.get(\"OPENAI_API_KEY\"),\n",
    ")"
   ]
  },
  {
   "cell_type": "code",
   "execution_count": 36,
   "id": "390e51bb-aed8-4629-bc3d-32dc5f5106f2",
   "metadata": {},
   "outputs": [],
   "source": [
    "def get_completion(prompt, model=\"gpt-3.5-turbo\"):\n",
    "    messages = [{\"role\": \"user\", \"content\": prompt}]\n",
    "    response = client.chat.completions.create(\n",
    "        model=model,\n",
    "        messages=messages,\n",
    "        temperature=0, # this is the degree of randomness of the model's output\n",
    "    )\n",
    "    return response.choices[0].message.content"
   ]
  },
  {
   "cell_type": "code",
   "execution_count": 45,
   "id": "df7ef5a3-f1c7-4008-bf56-cd81f698a888",
   "metadata": {},
   "outputs": [],
   "source": [
    "chase_df = pd.read_csv(\"chase_1.csv\")\n",
    "chase_df = chase_df.reset_index()"
   ]
  },
  {
   "cell_type": "code",
   "execution_count": 46,
   "id": "5057ec70-45a9-4776-a973-fd0bbc3b1480",
   "metadata": {},
   "outputs": [
    {
     "name": "stdout",
     "output_type": "stream",
     "text": [
      "{'index': 1, 'Transaction Date': '06/23/2024', 'Post Date': '06/24/2024', 'Description': 'HUNAN MIFEN', 'Category': 'Food & Drink', 'Type': 'Sale', 'Amount': -48.91, 'Memo': nan}\n"
     ]
    }
   ],
   "source": [
    "row_list = []\n",
    "for index, row in chase_df.iterrows():\n",
    "    row_list.append(row.to_dict())\n",
    "print(row_list[1])\n",
    "\n",
    "col_list = \", \".join(col for col in chase_df.columns)"
   ]
  },
  {
   "cell_type": "code",
   "execution_count": 48,
   "id": "6a837a03-42d0-4d55-9084-1bde931121c2",
   "metadata": {},
   "outputs": [
    {
     "name": "stdout",
     "output_type": "stream",
     "text": [
      "{\n",
      "    \"Date\": \"2024-06-24\",\n",
      "    \"Merchant\": \"99 RANCH #1766\",\n",
      "    \"Category\": \"Grocery\",\n",
      "    \"Amount\": 29.97\n",
      "}\n",
      "{\n",
      "    \"Date\": \"2024-06-23\",\n",
      "    \"Merchant\": \"HUNAN MIFEN\",\n",
      "    \"Category\": \"Dining\",\n",
      "    \"Amount\": 48.91\n",
      "}\n",
      "{\n",
      "    \"Date\": \"2024-06-21\",\n",
      "    \"Merchant\": \"MILPITAS SGD TOFU HOUS\",\n",
      "    \"Category\": \"Dining\",\n",
      "    \"Amount\": 30.0\n",
      "}\n",
      "{\n",
      "    \"Date\": \"2024-06-18\",\n",
      "    \"Merchant\": \"YANG GUO FU MALATANG\",\n",
      "    \"Category\": \"Dining\",\n",
      "    \"Amount\": 45.59\n",
      "}\n",
      "{\n",
      "    \"Date\": \"2024-06-16\",\n",
      "    \"Merchant\": \"Payment Thank You-Mobile\",\n",
      "    \"Category\": \"Others\",\n",
      "    \"Amount\": -40.0\n",
      "}\n",
      "{\n",
      "    \"Date\": \"2024-06-15\",\n",
      "    \"Merchant\": \"PHILS FISH MKT & EAT\",\n",
      "    \"Category\": \"Dining\",\n",
      "    \"Amount\": 110.77\n",
      "}\n",
      "{\n",
      "    \"Date\": \"2024-06-15\",\n",
      "    \"Merchant\": \"TST* THE TABLE-CA\",\n",
      "    \"Category\": \"Dining\",\n",
      "    \"Amount\": 68.0\n",
      "}\n",
      "{\n",
      "    \"Date\": \"2024-06-14\",\n",
      "    \"Merchant\": \"TRADER JOE S #229\",\n",
      "    \"Category\": \"Grocery\",\n",
      "    \"Amount\": 58.01\n",
      "}\n",
      "{\n",
      "    \"Date\": \"2024-06-14\",\n",
      "    \"Merchant\": \"UBER EATS\",\n",
      "    \"Category\": \"Dining\",\n",
      "    \"Amount\": -38.0\n",
      "}\n"
     ]
    }
   ],
   "source": [
    "prompt = \"\"\"\n",
    "Your task is to help me process a json structure enclosed in three backticks. \n",
    "The json input is converted from a Pandas dataframe. The dataframe's columns have been converted into the keys in the json input. \\\n",
    "The keys are: {0}\n",
    "\n",
    "Below is a list of tasks I want you to do:\n",
    "1. Take the input and evaluate the keys and the values\n",
    "2. In the output, I want the following keys: Date, Merchant, Category, Amount. I need you to infer from the input keys and find \\ \n",
    "out which input keys should map to the output keys\n",
    "3. Do not change any values from input unless specifically instructed. But you can ignore irrelevant key-value pairs and not  \\\n",
    "including them in the output\n",
    "4. Infer if the transaction is a credit card purchase or payment. If it's a purchase, the 'Amount' should be positive; otherwise, it \\\n",
    "should be negative.\n",
    "5. Date in the format of yyyy-mm-dd\n",
    "6. For Category, please infer from the following list: Grocery, Dining, or Others\n",
    "\n",
    "The response should only contain a json.\n",
    "\n",
    "Review json: '''{1}'''\n",
    "\"\"\"\n",
    "\n",
    "# response = get_completion(prompt.format(row_list[0]))\n",
    "# print(response)\n",
    "\n",
    "for row in row_list:\n",
    "    response = get_completion(prompt.format(col_list, row))\n",
    "    print(response)"
   ]
  },
  {
   "cell_type": "code",
   "execution_count": 32,
   "id": "e34db71c-7a53-428c-a750-77465b343f2a",
   "metadata": {},
   "outputs": [
    {
     "data": {
      "text/plain": [
       "{'index': 0,\n",
       " 'Transaction Date': '06/24/2024',\n",
       " 'Post Date': '06/25/2024',\n",
       " 'Description': '99 RANCH #1766',\n",
       " 'Category': 'Groceries',\n",
       " 'Type': 'Sale',\n",
       " 'Amount': -29.97,\n",
       " 'Memo': nan}"
      ]
     },
     "execution_count": 32,
     "metadata": {},
     "output_type": "execute_result"
    }
   ],
   "source": [
    "row_list[0]"
   ]
  },
  {
   "cell_type": "code",
   "execution_count": null,
   "id": "26b3c062-c02c-4a6a-963e-53c3cfa362aa",
   "metadata": {},
   "outputs": [],
   "source": []
  }
 ],
 "metadata": {
  "kernelspec": {
   "display_name": "gptFinance",
   "language": "python",
   "name": "gptfinance"
  },
  "language_info": {
   "codemirror_mode": {
    "name": "ipython",
    "version": 3
   },
   "file_extension": ".py",
   "mimetype": "text/x-python",
   "name": "python",
   "nbconvert_exporter": "python",
   "pygments_lexer": "ipython3",
   "version": "3.9.6"
  }
 },
 "nbformat": 4,
 "nbformat_minor": 5
}
